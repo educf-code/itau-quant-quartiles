{
 "cells": [
  {
   "cell_type": "code",
   "execution_count": 23,
   "metadata": {},
   "outputs": [],
   "source": [
    "import pandas as pd\n",
    "import numpy as np\n",
    "import math"
   ]
  },
  {
   "cell_type": "code",
   "execution_count": 37,
   "metadata": {},
   "outputs": [],
   "source": [
    "def simple_backtest(df_1, df_2):\n",
    "    \"\"\"\n",
    "    Faz um backtest simples baseado nos sinais.\n",
    "    Baseado no df_1, cria uma nova coluna chamada signals que diz qual é o sinal correto.\n",
    "    Depois, compara signals com predicted_signals e cria uma coluna comparison que diz se o sinal previsto foi igual ao correto.\n",
    "\n",
    "    Parâmetros\n",
    "    - df_1: dataframe\n",
    "        - coluna Date como index no formato YYYY/MM/DD\n",
    "        - coluna {nome-do-ticker} com o valor da ação\n",
    "    - df_2: dataframe\n",
    "        - coluna Date como index no formato YYYY/MM/DD\n",
    "        - coluna predicted_signals contendo o sinal para aquela data.\n",
    "        - sinal deve ser 1 (comprado), 0 (neutro), -1 (vendido)\n",
    "    \"\"\"\n",
    "    df_1[\"diff\"] = df_1.iloc[:, 0].diff()\n",
    "    df_1 = df_1.sort_index(ascending=True)\n",
    "    df_1[\"signals\"] = df_1[\"diff\"].apply(\n",
    "        lambda x: x / x if x > 0 else (-x / x if x < 0 else x)\n",
    "    )\n",
    "    df_1[\"signals\"] = df_1[\"signals\"].shift(periods=-1)\n",
    "\n",
    "    df_2 = df_2.sort_index(ascending=True)\n",
    "\n",
    "    final_df = df_1.merge(df_2, right_index=True, left_index=True)\n",
    "    final_df[\"comparison\"] = final_df[\"signals\"] == final_df[\"predicted_signals\"]\n",
    "\n",
    "    return final_df"
   ]
  },
  {
   "cell_type": "code",
   "execution_count": 25,
   "metadata": {},
   "outputs": [],
   "source": [
    "df_1 = pd.read_excel(\"ambev_data.xlsx\", index_col=0)"
   ]
  },
  {
   "cell_type": "code",
   "execution_count": 32,
   "metadata": {},
   "outputs": [
    {
     "data": {
      "text/html": [
       "<div>\n",
       "<style scoped>\n",
       "    .dataframe tbody tr th:only-of-type {\n",
       "        vertical-align: middle;\n",
       "    }\n",
       "\n",
       "    .dataframe tbody tr th {\n",
       "        vertical-align: top;\n",
       "    }\n",
       "\n",
       "    .dataframe thead th {\n",
       "        text-align: right;\n",
       "    }\n",
       "</style>\n",
       "<table border=\"1\" class=\"dataframe\">\n",
       "  <thead>\n",
       "    <tr style=\"text-align: right;\">\n",
       "      <th></th>\n",
       "      <th>predicted_signals</th>\n",
       "    </tr>\n",
       "    <tr>\n",
       "      <th>Date</th>\n",
       "      <th></th>\n",
       "    </tr>\n",
       "  </thead>\n",
       "  <tbody>\n",
       "    <tr>\n",
       "      <th>2000-01-05</th>\n",
       "      <td>1</td>\n",
       "    </tr>\n",
       "    <tr>\n",
       "      <th>2000-01-06</th>\n",
       "      <td>-1</td>\n",
       "    </tr>\n",
       "    <tr>\n",
       "      <th>2000-01-07</th>\n",
       "      <td>-1</td>\n",
       "    </tr>\n",
       "    <tr>\n",
       "      <th>2000-01-10</th>\n",
       "      <td>1</td>\n",
       "    </tr>\n",
       "    <tr>\n",
       "      <th>2000-01-11</th>\n",
       "      <td>1</td>\n",
       "    </tr>\n",
       "  </tbody>\n",
       "</table>\n",
       "</div>"
      ],
      "text/plain": [
       "            predicted_signals\n",
       "Date                         \n",
       "2000-01-05                  1\n",
       "2000-01-06                 -1\n",
       "2000-01-07                 -1\n",
       "2000-01-10                  1\n",
       "2000-01-11                  1"
      ]
     },
     "execution_count": 32,
     "metadata": {},
     "output_type": "execute_result"
    }
   ],
   "source": [
    "df_2 = pd.DataFrame(\n",
    "    {\"predicted_signals\": np.random.choice([0, 1, -1], size=6221)},\n",
    "    index=df_1.index,\n",
    ")"
   ]
  },
  {
   "cell_type": "code",
   "execution_count": 39,
   "metadata": {},
   "outputs": [
    {
     "data": {
      "text/plain": [
       "comparison\n",
       "False    4183\n",
       "True     2038\n",
       "Name: count, dtype: int64"
      ]
     },
     "execution_count": 39,
     "metadata": {},
     "output_type": "execute_result"
    }
   ],
   "source": [
    "# testando com valores aleatórios para os sinais\n",
    "simple_backtest(df_1=df_1, df_2=df_2)"
   ]
  },
  {
   "cell_type": "code",
   "execution_count": null,
   "metadata": {},
   "outputs": [],
   "source": []
  }
 ],
 "metadata": {
  "kernelspec": {
   "display_name": "Python 3",
   "language": "python",
   "name": "python3"
  },
  "language_info": {
   "codemirror_mode": {
    "name": "ipython",
    "version": 3
   },
   "file_extension": ".py",
   "mimetype": "text/x-python",
   "name": "python",
   "nbconvert_exporter": "python",
   "pygments_lexer": "ipython3",
   "version": "3.12.1"
  }
 },
 "nbformat": 4,
 "nbformat_minor": 2
}
